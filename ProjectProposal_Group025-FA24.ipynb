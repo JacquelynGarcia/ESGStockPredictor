{
  "cells": [
    {
      "cell_type": "markdown",
      "metadata": {},
      "source": [
        "# COGS 108 - Project Proposal"
      ]
    },
    {
      "cell_type": "markdown",
      "metadata": {},
      "source": [
        "# Names\n",
        "\n",
        "- Auritro Dutta\n",
        "- Jacquelyn Garcia\n",
        "- Prabhmeet Gujral\n",
        "- Ethan Heath\n",
        "- Aniruddh Krovvidi"
      ]
    },
    {
      "cell_type": "markdown",
      "metadata": {},
      "source": [
        "# Research Question"
      ]
    },
    {
      "cell_type": "markdown",
      "metadata": {},
      "source": [
        "Can historical financial data be combined with Environmental, Social, and Governance (ESG) criteria to effectively predict future stock prices using Machine Learning models for companies that also meet high ESG standards, thereby facilitating data-driven and socially responsible investing?\n",
        "The features that the model will be trained on includes:\n",
        "\n",
        "- Financial Indicators: The model will use traditional financial metrics such as historical stock prices, financial ratios (e.g., P/E ratio, debt-to-equity ratio), and indicators of volatility as inputs.\n",
        "\n",
        "- ESG Scores: ESG data will be categorized into Environmental, Social, and Governance scores, which include sub-factors like carbon footprint (Environmental), employee welfare (Social), and board diversity (Governance)."
      ]
    },
    {
      "cell_type": "markdown",
      "metadata": {},
      "source": [
        "# Background and Prior Work"
      ]
    },
    {
      "cell_type": "markdown",
      "metadata": {},
      "source": [
        "#### Introduction to ESG Investing and Stock Price Prediction\n",
        "Environmental, Social, and Governance (ESG) investing has gained significant traction in recent years as investors seek to align their financial goals with their values. ESG investing involves considering a company's environmental impact, social responsibilities, and governance practices alongside traditional financial metrics. The underlying hypothesis is that companies with high ESG ratings not only contribute positively to society but also exhibit more stable and potentially superior financial performance. Our project aims to leverage machine learning models to predict stock prices by incorporating ESG scores with traditional financial indicators. This dual-focus approach aims to provide insights into whether ESG factors enhance the predictive power of financial models, thereby supporting socially responsible investment decisions.\n",
        "\n",
        "#### Prior Work on ESG and Financial Performance\n",
        "Previous studies have explored the relationship between ESG factors and financial performance, providing a foundation for our research. A notable study by Friede, Busch, and Bassen (2015) conducted a meta-analysis of over 2,000 empirical studies and found that the majority of these studies reported a positive relationship between ESG factors and corporate financial performance. This comprehensive review suggests that ESG criteria can be financially beneficial and supports the hypothesis that ESG-compliant companies may exhibit favorable stock performance.<a name=\"#fn1\"></a>[<sup>1</sup>](#note-1)\n",
        "\n",
        "Further, a study by Khan, Serafeim, and Yoon (2016) published in the Journal of Accounting and Economics examined how material ESG issues—those that are likely to affect a company’s financial condition—are linked to stock price performance. They found that firms with good performance on material sustainability issues outperform those with poor performance, suggesting that ESG factors, when material, can provide valuable insights for investors.<a name=\"#fn2\"></a>[<sup>2</sup>](#note-2)\n",
        "\n",
        "In the realm of machine learning, there have been several attempts to predict stock prices using various algorithms. For instance, the use of LSTM neural networks for stock price prediction has been well-documented. A study by Fischer and Krauss (2018) utilized LSTM networks to predict S&P 500 stock prices and found that LSTM models significantly outperformed traditional models in capturing the temporal dependencies in financial data.<a name=\"#fn3\"></a>[<sup>3</sup>](#note-3) This study highlights the potential of advanced machine learning models to enhance the accuracy of stock price predictions.\n",
        "\n",
        "#### In-Depth Study Analysis\n",
        "An in-depth analysis of the intersection of ESG investing and stock price prediction reveals a growing body of work focused on integrating ESG factors into financial models. One such study by Henisz, Koller, and Nuttall (2019) in the McKinsey Quarterly emphasized the increasing importance of ESG factors in driving long-term financial performance. Their research suggested that ESG issues are often linked to critical factors such as regulatory compliance, operational efficiencies, and brand reputation, which can significantly impact stock prices.<a name=\"#fn4\"></a>[<sup>4</sup>](#note-4)\n",
        "\n",
        "Another significant study by Bolton and Kacperczyk (2020) investigated the relationship between carbon emissions and stock returns. They found that firms with higher carbon emissions tend to have lower stock returns, indicating that environmental factors can have a substantial impact on financial performance. This study aligns with the broader hypothesis that ESG factors, particularly environmental issues, play a critical role in influencing investor behavior and stock price trends.<a name=\"#fn5\"></a>[<sup>5</sup>](#note-5)\n",
        "\n",
        "Furthermore, a paper by Albuquerque, Koskinen, and Zhang (2019) published in the Journal of Financial Economics examined how corporate social responsibility (CSR) activities influence firm risk and stock returns. They discovered that firms engaging in CSR activities generally experience lower risk and higher returns, supporting the integration of social factors into investment models.<a name=\"#fn6\"></a>[<sup>6</sup>](#note-6)\n",
        "\n",
        "#### Relevant References\n",
        "1. <a name=\"#note-1\"></a>[^](#fn1) Friede, G., Busch, T., & Bassen, A. (2015). ESG and financial performance: aggregated evidence from more than 2000 empirical studies. Journal of Sustainable Finance & Investment, 5(4), 210-233. \n",
        "This meta-analysis provides comprehensive evidence of the positive relationship between ESG factors and corporate financial performance, suggesting that ESG criteria are not only ethical but also financially beneficial. https://www.tandfonline.com/doi/full/10.1080/20430795.2015.1118917#d1e255\n",
        "\n",
        "2. <a name=\"#note-2\"></a>[^](#fn2) Khan, M., Serafeim, G., & Yoon, A. (2016). Corporate sustainability: First evidence on materiality. The Accounting Review, 91(6), 1697-1724. \n",
        "This study examines the impact of material ESG issues on stock price performance, finding that firms excelling in material sustainability issues tend to outperform those that do not, providing a basis for integrating ESG factors into investment models. https://dash.harvard.edu/bitstream/handle/1/14369106/15-073.pdf;jsessionid=5212220466676E63E99E26EF77D83571?sequence=1\n",
        "\n",
        "3. <a name=\"#note-3\"></a>[^](#fn3) Fischer, T., & Krauss, C. (2018). Deep learning with long short-term memory networks for financial market predictions. European Journal of Operational Research, 270(2), 654-669. \n",
        "This paper demonstrates the effectiveness of LSTM neural networks in predicting stock prices, highlighting their ability to capture complex temporal patterns, which is crucial for accurate financial forecasting. https://www.sciencedirect.com/science/article/pii/S0377221717310652\n",
        "\n",
        "4. <a name=\"#note-4\"></a>[^](#fn4) Henisz, W., Koller, T., & Nuttall, R. (2019). Five ways that ESG creates value. McKinsey Quarterly. \n",
        "This article emphasizes the increasing importance of ESG factors in driving long-term financial performance and provides insights into how ESG issues can impact stock prices through regulatory compliance, operational efficiencies, and brand reputation. https://info.fiduciary-trust.com/hubfs/Fiduciary_Insights/McKinsey_Five_Ways_that_ESG_Creates_Value.pdf\n",
        "\n",
        "5. <a name=\"#note-5\"></a>[^](#fn5) Bolton, P., & Kacperczyk, M. (2020). Do investors care about carbon risk? Journal of Financial Economics, 142(2), 517-549. \n",
        "This study investigates the relationship between carbon emissions and stock returns, highlighting the substantial impact of environmental factors on financial performance and investor behavior. https://www.sciencedirect.com/science/article/pii/S0304405X21001902\n",
        "\n",
        "6. <a name=\"#note-6\"></a>[^](#fn6) Albuquerque, R., Koskinen, Y., & Zhang, C. (2019). Corporate Social Responsibility and Firm Risk: Theory and Empirical Evidence. Journal of Financial Economics, 137(2), 479-497.\n",
        "This paper examines how CSR activities influence firm risk and stock returns, finding that firms engaging in CSR activities generally experience lower risk and higher returns, reinforcing the need to integrate social factors into investment models. https://www.sciencedirect.com/science/article/pii/S0304405X1930205X\n"
      ]
    },
    {
      "cell_type": "markdown",
      "metadata": {},
      "source": [
        "# Data Sources\n",
        "\n",
        "1. **Yahoo Finance API**: We will use Yahoo Finance API to collect historical stock price data for a selected pool of companies over the past decade. This data will serve as the primary input for training our machine learning models.\n",
        "\n",
        "2. **MSCI ESG Ratings**: We will obtain ESG ratings from MSCI for the companies in our dataset. MSCI provides comprehensive ESG ratings based on a company's environmental, social, and governance performance.\n",
        "\n",
        "3. **World Bank Data**: We will also leverage World Bank data for global ESG benchmarks and macroeconomic indicators that may impact stock prices and financial performance.\n",
        "\n",
        "4. **Financial Metrics from SEC Filings**: Additionally, we will extract relevant financial metrics from the companies' SEC filings to include in our analysis. This data will provide further context on financial performance."
      ]
    },
    {
      "cell_type": "markdown",
      "metadata": {},
      "source": [
        "# Methodology\n",
        "\n",
        "1. **Data Collection**: We will gather historical stock prices, ESG scores, and financial indicators from the mentioned data sources. Data preprocessing will include handling missing values, normalization, and categorization of ESG scores.\n",
        "\n",
        "2. **Feature Engineering**: We will create new features based on historical trends, ratios, and ESG sub-factors to enhance the model's predictive capability. Features such as moving averages, volatility, and ESG change over time will be computed.\n",
        "\n",
        "3. **Model Selection**: We will explore various machine learning models, including:\n",
        "    - Linear Regression\n",
        "    - Random Forest\n",
        "    - Support Vector Machines (SVM)\n",
        "    - Long Short-Term Memory (LSTM) networks\n",
        "    - Gradient Boosting models\n",
        "\n",
        "4. **Model Training**: We will split the dataset into training and testing sets and use cross-validation techniques to train and evaluate model performance based on metrics like RMSE, MAE, and R-squared values.\n",
        "\n",
        "5. **Analysis of Results**: We will analyze the relationship between ESG scores and stock price predictions, assessing whether incorporating ESG factors improves model performance. Additionally, we will conduct sensitivity analyses to understand the impact of different ESG factors on financial outcomes."
      ]
    },
    {
      "cell_type": "markdown",
      "metadata": {},
      "source": [
        "# Timeline\n",
        "\n",
        "Week 1-2: Literature review and data collection\n",
        "Week 3: Data preprocessing and feature engineering\n",
        "Week 4: Model selection and initial training\n",
        "Week 5-6: Model evaluation and refinement\n",
        "Week 7: Final analysis and report writing\n",
        "Week 8: Presentation preparation and project submission"
      ]
    },
    {
      "cell_type": "markdown",
      "metadata": {},
      "source": [
        "# Expected Outcomes\n",
        "\n",
        "1. A predictive model that incorporates ESG scores alongside traditional financial metrics to forecast stock prices effectively.\n",
        "2. Insights into the relationship between ESG factors and financial performance, contributing to the discourse on sustainable investing.\n",
        "3. A comprehensive report detailing our methodology, findings, and recommendations for investors seeking to align their portfolios with ESG criteria."
      ]
    }
  ],
  "metadata": {
    "kernelspec": {
      "display_name": "Python 3",
      "language": "python",
      "name": "python3"
    },
    "language_info": {
      "codemirror_mode": {
        "name": "ipython",
        "version": 3
      },
      "file_extension": ".py",
      "mimetype": "text/x-python",
      "name": "python",
      "nbconvert_exporter": "python",
      "pygments_lexer": "ipython3",
      "version": "3.8.5"
    }
  },
  "nbformat": 4,
  "nbformat_minor": 4
}
