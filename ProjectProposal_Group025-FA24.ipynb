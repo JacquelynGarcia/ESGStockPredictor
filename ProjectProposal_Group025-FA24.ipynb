{
 "cells": [
  {
   "cell_type": "markdown",
   "metadata": {},
   "source": [
    "# COGS 108 - Project Proposal"
   ]
  },
  {
   "cell_type": "markdown",
   "metadata": {},
   "source": [
    "# Names\n",
    "\n",
    "- Auritro Dutta\n",
    "- Jacquelyn Garcia\n",
    "- Prabhmeet Gujral\n",
    "- Ethan Heath\n",
    "- Aniruddh Krovvidi"
   ]
  },
  {
   "cell_type": "markdown",
   "metadata": {},
   "source": [
    "# Research Question"
   ]
  },
  {
   "cell_type": "markdown",
   "metadata": {},
   "source": [
    "Can historical financial data be combined with Environmental, Social, and Governance (ESG) criteria to effectively predict future stock prices using Machine Learning for companies that also meet high ESG standards, thereby facilitating data-driven and socially responsible investing?\n",
    "The features that the model will be trained on include:\n",
    "\n",
    "- Financial Indicators: The model will use traditional financial metrics such as historical stock prices, financial ratios (e.g., P/E ratio, debt-to-equity ratio), and indicators of volatility.\n",
    "\n",
    "- ESG Scores: ESG data will be categorized into Environmental, Social, and Governance scores, which include sub-factors like carbon footprint (Environmental), employee welfare (Social), and board diversity (Governance)."
   ]
  },
  {
   "cell_type": "markdown",
   "metadata": {},
   "source": [
    "# Background and Prior Work"
   ]
  },
  {
   "cell_type": "markdown",
   "metadata": {},
   "source": [
    "#### Introduction to ESG Investing and Stock Price Prediction\n",
    "Environmental, Social, and Governance (ESG) investing has gained significant traction in recent years as investors seek to align their financial goals with their values. ESG investing involves considering a company's environmental impact, social responsibilities, and governance practices alongside traditional financial metrics. The underlying hypothesis is that companies with high ESG ratings not only contribute positively to society but also exhibit more stable and potentially superior financial performance. Our project aims to leverage Machine Learning to predict stock prices by incorporating ESG scores with traditional financial indicators. This dual-focus approach aims to provide insights into whether ESG factors enhance the predictive power of financial models, thereby supporting socially responsible investment decisions.\n",
    "\n",
    "#### Prior Work on ESG and Financial Performance\n",
    "Previous studies have explored the relationship between ESG factors and financial performance, providing a foundation for our research. A notable study by Friede, Busch, and Bassen (2015) conducted a meta-analysis of over 2,000 empirical studies and found that the majority of these studies reported a positive relationship between ESG factors and corporate financial performance. This comprehensive review suggests that ESG criteria can be financially beneficial and supports the hypothesis that ESG-compliant companies may exhibit favorable stock performance.<a name=\"#fn1\"></a>[<sup>1</sup>](#note-1)\n",
    "\n",
    "Further, a study by Khan, Serafeim, and Yoon (2016) published in the Journal of Accounting and Economics examined how material ESG issues—those that are likely to affect a company’s financial condition—are linked to stock price performance. They found that firms with good performance on material sustainability issues outperform those with poor performance, suggesting that ESG factors, when material, can provide valuable insights for investors.<a name=\"#fn2\"></a>[<sup>2</sup>](#note-2)\n",
    "\n",
    "In the realm of Machine Learning, there have been several attempts to predict stock prices using various algorithms. For instance, the use of LSTM neural networks for stock price prediction has been well-documented. A study by Fischer and Krauss (2018) utilized LSTM networks to predict S&P 500 stock prices and found that LSTM models significantly outperformed traditional models in capturing the temporal dependencies in financial data.<a name=\"#fn3\"></a>[<sup>3</sup>](#note-3) This study highlights the use of leveraging neural networks to enhance the accuracy of stock price predictions.\n",
    "\n",
    "#### In-Depth Study Analysis\n",
    "An in-depth analysis of the intersection of ESG investing and stock price prediction reveals a growing body of work focused on integrating ESG factors into financial models. One such study by Henisz, Koller, and Nuttall (2019) in the McKinsey Quarterly emphasized the increasing importance of ESG factors in driving long-term financial performance. Their research suggested that ESG issues are often linked to critical factors such as regulatory compliance, operational efficiencies, and brand reputation, which can significantly impact stock prices.<a name=\"#fn4\"></a>[<sup>4</sup>](#note-4) This is promising for those looking to make sustainable investments.\n",
    "\n",
    "Another significant study by Bolton and Kacperczyk (2020) investigated the relationship between carbon emissions and stock returns. They found that firms with higher carbon emissions tend to have lower stock returns, indicating that environmental factors can have a substantial impact on financial performance. This study aligns with the broader hypothesis that ESG factors, particularly environmental issues, play a critical role in influencing investor behavior and stock price trends.<a name=\"#fn5\"></a>[<sup>5</sup>](#note-5)\n",
    "\n",
    "Furthermore, a paper by Albuquerque, Koskinen, and Zhang (2019) published in the Journal of Financial Economics examined how corporate social responsibility (CSR) activities influence firm risk and stock returns. They discovered that firms engaging in CSR activities generally experience lower risk and higher returns, supporting the integration of social factors into investment models.<a name=\"#fn6\"></a>[<sup>6</sup>](#note-6)\n",
    "\n",
    "#### Relevant References\n",
    "1. <a name=\"#note-1\"></a>[^](#fn1) Friede, G., Busch, T., & Bassen, A. (2015). ESG and financial performance: aggregated evidence from more than 2000 empirical studies. Journal of Sustainable Finance & Investment, 5(4), 210-233. \n",
    "https://www.tandfonline.com/doi/full/10.1080/20430795.2015.1118917#d1e255\n",
    "\n",
    "2. <a name=\"#note-2\"></a>[^](#fn2) Khan, M., Serafeim, G., & Yoon, A. (2016). Corporate sustainability: First evidence on materiality. The Accounting Review, 91(6), 1697-1724. \n",
    "https://dash.harvard.edu/bitstream/handle/1/14369106/15-073.pdf;jsessionid=5212220466676E63E99E26EF77D83571?sequence=1\n",
    "\n",
    "3. <a name=\"#note-3\"></a>[^](#fn3) Fischer, T., & Krauss, C. (2018). Deep learning with long short-term memory networks for financial market predictions. European Journal of Operational Research, 270(2), 654-669. \n",
    "https://www.sciencedirect.com/science/article/pii/S0377221717310652\n",
    "\n",
    "4. <a name=\"#note-4\"></a>[^](#fn4) Henisz, W., Koller, T., & Nuttall, R. (2019). Five ways that ESG creates value. McKinsey Quarterly. \n",
    "https://info.fiduciary-trust.com/hubfs/Fiduciary_Insights/McKinsey_Five_Ways_that_ESG_Creates_Value.pdf\n",
    "\n",
    "5. <a name=\"#note-5\"></a>[^](#fn5) Bolton, P., & Kacperczyk, M. (2020). Do investors care about carbon risk? Journal of Financial Economics, 142(2), 517-549. \n",
    "https://www.sciencedirect.com/science/article/pii/S0304405X21001902\n",
    "\n",
    "6. <a name=\"#note-6\"></a>[^](#fn6) Albuquerque, R., Koskinen, Y., & Zhang, C. (2019). Corporate Social Responsibility and Firm Risk: Theory and Empirical Evidence. Journal of Financial Economics, 137(2), 479-497.\n",
    "https://pubsonline.informs.org/doi/epdf/10.1287/mnsc.2018.3043\n",
    "\n",
    "By building on these studies, our project will integrate ESG scores with traditional financial indicators in a machine learning model to predict stock prices, aiming to validate and extend the understanding of ESG's role in financial performance. We will explore whether ESG factors provide additional predictive power beyond traditional metrics, potentially leading to more robust and socially responsible investment strategies.    "
   ]
  },
  {
   "cell_type": "markdown",
   "metadata": {},
   "source": [
    "# Hypothesis\n"
   ]
  },
  {
   "cell_type": "markdown",
   "metadata": {},
   "source": [
    "Our hypothesis posits that integrating ESG factors with traditional financial metrics will notably improve the accuracy of stock price forecasts, aligning with the goals of socially responsible investingIn particular, we anticipate that specific ESG components—such as environmental and governance scores—will make distinct contributions to stock price stability and performance. Companies with strong environmental scores, for example, may show less price volatility due to their commitment to sustainable practices, while robust governance scores could indicate resilience to operational and regulatory challenges. This hypothesis is based on existing research that links ESG compliance positively with financial performance, suggesting that ESG scores reveal important aspects of a company’s stability and growth prospects.Through the application of ESG factors in a machine learning model, our aim is to identify predictive elements of company performance that are not fully captured by traditional financial indicators, ultimately leading to more accurate and sustainability-conscious stock price predictions."
    ]
  },
  {
   "cell_type": "markdown",
   "metadata": {},
   "source": [
    "# Data"
   ]
  },
  {
   "cell_type": "markdown",
   "metadata": {},
   "source": [
    "For meaningful analysis, data from approximately 1,000 publicly traded companies across various sectors and spanning at least 10 to 15 years of data to capture long-term trends would allow insights into broader trends beyond isolated industry cases. The variables that we would be taking into consideration for our financial indicators include daily closing stock prices for a predetermined amount of time, P/E ratios, profit margins, return on assets, standard deviation of stock returns, and daily total variance. The ESG score variables we would include are  carbon emission rating, waste management scores, employee welfare scores, workforce diversity, energy efficiency, board diversity, and trasparency ratings.\n",
    "\n",
    "Organizing this data by company and date in a structured database would allow for easy querying and updating for ongoing analysis. Financial data which includes historical stock prices and ratios can be sourced from Yahoo Finance. It offers consistent financial metrics through public APIs, as well as alternative providers like Alpha Vantage and Quandl. ESG scores, on the other hand, often require more specialized sources; agencies like MSCI and Refinitiv provide detailed ESG datasets, though access may be restricted by company size, geography, and disclosure practices. Public filings and government databases, such as the EPA and SEC in the U.S., can also supplement ESG data, providing environmental metrics like greenhouse gas emissions and social metrics like workforce diversity.\n",
    "\n",
    "By combining these sources, we can create an ideal dataset that captures both financial and ESG factors. This will allow for easier investigation into the impact of ESG factores in financial performance prediction, even with certain limitations.\n",
    "\n",
    "Potential datasets that will be useful to our project include:\n",
    "   - Yahoo Finance for historical stock prices and financial metrics.\n",
    "   - MSCI or Refinitiv for ESG ratings and scores.\n",
    "   - Government databases for environmental and social indicators.\n",
    "   - Other financial data providers that might offer public APIs for stock data.\n",
    "While these sources may not provide the ideal dataset in its entirety, they each offer valuable components that could contribute to a comprehensive analysis of ESG’s impact on stock performance.\n",
    "\n",
    "Here are some examples of potential datasets that we might consider using:\n",
    "- https://www.kaggle.com/datasets/alistairking/public-company-esg-ratings-dataset\n",
    "- https://www.kaggle.com/datasets/pritish509/s-and-p-500-esg-risk-ratings\n"
   ]
  },
  {
   "cell_type": "markdown",
   "metadata": {},
   "source": [
    "# Ethics & Privacy"
   ]
  },
  {
   "cell_type": "markdown",
   "metadata": {},
   "source": [
    "Our project aim is to predict stock performance using ESG and financial data, but we recognize ethical considerations surrounding biases, privacy, and the equitable representation of companies. One key ethical concern is the assumption that high ESG scores universally translate to better financial performance. This can potentially inherently favor larger companies with resources to meet high ESG standards, leaving smaller firms with the disadvantage of lacking the means to fully report or attain these scores. Therefore, we will diversify our dataset by including companies of varying sizes and across different industries to reduce this potential bias and transparently communicate this limitation in our results.\n",
    "\n",
    "Using publicly available data from reputable sources such as Yahoo Finance and MSCI, while respecting the terms of use and reporting biases will be considered, since companies are likely to be selective in the ESG data that they choose to report. This is particularly relevant for companies with robust resources, which may skew the dataset toward well-established firms.. Our analysis will include balancing techniques where possible and clear communication around potential skewed findings.\n",
    "\n",
    "Bias Detection and Mitigation:\n",
    "- Before Analysis: We will assess data diversity by evaluating the range of company sizes, industries, and geographical locations to ensure our dataset reflects a balanced representation.\n",
    "- During Analysis: We will conduct feature analysis to evaluate the weights assigned to financial versus ESG factors, ensuring both are equitably represented.\n",
    "- Post-Analysis: When reporting results, we will explicitly address any biases or limitations observed, including transparency on whether ESG factors have influenced predictions in unintended ways.\n",
    "\n",
    "We recognize that ESG scores are not absolute indicators of financial success, we will communicate that our model’s predictions are limited by the current availability and quality of ESG data. We aim to provide responsible insights by acknowledging the potential limitations of ESG scores for financial forecasting, and we will structure our analysis and reporting to transparently communicate any ethical concerns."
   ]
  },
  {
   "cell_type": "markdown",
   "metadata": {},
   "source": [
    "# Team Expectations "
   ]
  },
  {
   "cell_type": "markdown",
   "metadata": {},
   "source": [
    "\n",
    "Communication:\n",
    "* Use Discord as our primary communication. Team members should respond within a 24 hour time frame to messages.\n",
    "* Meet weekly virtually to discuss project progress, next steps, and obstacles.\n",
    "* Communicate openly and respectfully. When providing feedback, suggestions should aim to be constructive.\n",
    "* It is unacceptable to not contribute to group assignments and be unresponsive on the group chat consistently. If any team member is not pulling their weight and contributing equally, they will be informed by the rest of the team to begin doing so.\n",
    "\n",
    "Task Delegation:\n",
    "* Use Github to manage and view task assignments and progress. Push to repo consistenly.\n",
    "* Auritro: Responsible for gathering datasets from sources such as Yahoo Finance, MSCI, and Kaggle. Will be identifying the required financial and ESG data, merging datasets, and organizing the data for analysis. Ensure that deadlines are being met, coordinating communication, and using GitHub to track the teams progress.\n",
    "* Jacquelyn: Assist with data cleaning, handling any missing values, outlier analysis, as well as ensuring that the data is properly prepared for analysis. Drafts the report sections on the interpretation of results, such as the impact of ESG factors on the prediction and summarize findings.\n",
    "* Prabhmeet: Will be conducting the Exploratory Data Analysis (EDA), creating visuals that explore relationships between the variables (such as financial indicators and ESG scores) and summarizing key insights. Will ensure that the dataset is balanced. Will write about any ethical considerations, including biases and mitigation strategies in ESG data. Will assist in preparing the ethics and privacy sections.\n",
    "* Ethan: Develops the Machine Learning models for stock price predictions, starting with basic models and soon transitioning to LSTMs/other nueral networks. Ensures that there is proper model evaluation through metrics like RSME/R-squared. Will prepare presentation slides summarizing results, focusing on the significance of incorporating ESG data in financial predictions.\n",
    "* Aniruddh: Will test the models performance and performers hyperparameter tuning. Checks for overfitting and ensures that ESG scores are being properly integrated into the model. Will assist with the documentation on GitHub, including notebooks, final code, and creating an effective README file for project reproduction.\n",
    "\n",
    "Decision Making Process:\n",
    "* Use a majority vote for general decisions.\n",
    "* Document decisions in our Discord server.\n",
    "\n",
    "Supporting Teammates in Difficulty:\n",
    "* Anyone that is facing any challenges should notify the rest of the group as soon as possible so we can work together to either reallocate tasks or provide support.\n",
    "* Communicate issues privately first and if we cannot come to a general agreement, we can escalate to the professor if needed."
   ]
  },
  {
   "cell_type": "markdown",
   "metadata": {},
   "source": [
    "# Project Timeline Proposal"
   ]
  },
  {
   "cell_type": "markdown",
   "metadata": {},
   "source": [
    "Specify your team's specific project timeline. An example timeline has been provided. Changes the dates, times, names, and details to fit your group's plan.\n",
    "\n",
    "If you think you will need any special resources or training outside what we have covered in COGS 108 to solve your problem, then your proposal should state these clearly. For example, if you have selected a problem that involves implementing multiple neural networks, please state this so we can make sure you know what you’re doing and so we can point you to resources you will need to implement your project. Note that you are not required to use outside methods.\n",
    "\n",
    "\n",
    "\n",
    "| Meeting Date  | Meeting Time| Completed Before Meeting  | Discuss at Meeting |\n",
    "|---|---|---|---|\n",
    "| 10/24  |  1 PM | Read & Think about COGS 108 expectations; brainstorm topics/questions  | Determine best form of communication; Discuss and decide on final project topic; discuss hypothesis; begin background research | \n",
    "| 10/28  |  10 AM |  Do background research on topic | Review background information,; identify ideal datasets; discuss ethical considerations and finalize project proposal draft. | \n",
    "| 10/30  | 10 AM  | Edit, finalize, and submit proposal; Search for datasets  | Review available datasets; Start preprocessing data; Assign group members to lead each specific part of the project.   |\n",
    "| 11/8  | 6 PM  | Import & Wrangle Data; EDA | Review EDA findings; finalize data cleaning; develop an analysis plan and identify key features of modeling.  |\n",
    "| 11/16  | 12 PM  | Finalize wrangling/EDA; Begin Analysis | Discuss/edit Analysis and the progress; address any challenges encountered in the project; Complete project check-in; finalize analysis plan for the Machine Learning model. |\n",
    "| 11/24  | 12 PM  | Complete analysis; Draft results/conclusion/discussion | Review analysis and results; discuss the final interpretation of results; begin writing the conclusion and ethical considerations. |\n",
    "| 12/1  | Before 11:59 PM  | Final edits | Turn in Final Project & Group Project Surveys |"
   ]
  },
  {
   "cell_type": "code",
   "execution_count": null,
   "metadata": {},
   "outputs": [],
   "source": []
  }
 ],
 "metadata": {
  "kernelspec": {
   "display_name": "Python 3 (ipykernel)",
   "language": "python",
   "name": "python3"
  },
  "language_info": {
   "codemirror_mode": {
    "name": "ipython",
    "version": 3
   },
   "file_extension": ".py",
   "mimetype": "text/x-python",
   "name": "python",
   "nbconvert_exporter": "python",
   "pygments_lexer": "ipython3",
   "version": "3.12.6"
  }
 },
 "nbformat": 4,
 "nbformat_minor": 4
}
